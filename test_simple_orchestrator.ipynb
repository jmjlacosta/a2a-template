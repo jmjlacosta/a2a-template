
{
 "cells": [
  {
   "cell_type": "markdown",
   "metadata": {},
   "source": [
    "# Simple Orchestrator Live Test\n",
    "This notebook lets you test the simple orchestrator and see exactly what's being sent to each agent."
   ]
  },
  {
   "cell_type": "code",
   "execution_count": null,
   "metadata": {},
   "outputs": [],
   "source": [
    "import sys\n",
    "from pathlib import Path\n",
    "import json\n",
    "import asyncio\n",
    "from datetime import datetime\n",
    "\n",
    "# Add parent directory to path\n",
    "sys.path.insert(0, str(Path('.').absolute()))\n",
    "\n",
    "# Import orchestrator\n",
    "from examples.pipeline.simple_orchestrator_agent import SimpleOrchestratorAgent"
   ]
  },
  {
   "cell_type": "markdown",
   "metadata": {},
   "source": [
    "## Test Document"
   ]
  },
  {
   "cell_type": "code",
   "execution_count": null,
   "metadata": {},
   "outputs": [],
   "source": [
    "TEST_DOCUMENT = '''\n",
    "PATIENT: Eleanor Richardson\n",
    "DATE: March 15, 2024\n",
    "\n",
    "CHIEF COMPLAINT: Follow-up for melanoma treatment\n",
    "\n",
    "HISTORY OF PRESENT ILLNESS:\n",
    "Ms. Richardson is a 68-year-old female with Stage IIIB melanoma diagnosed in January 2024.\n",
    "She completed her third cycle of pembrolizumab (Keytruda) on March 1, 2024.\n",
    "\n",
    "CURRENT MEDICATIONS:\n",
    "- Pembrolizumab 200mg IV q3 weeks\n",
    "- Metformin 1000mg BID\n",
    "- Lisinopril 10mg daily\n",
    "'''\n",
    "\n",
    "print(f'Document length: {len(TEST_DOCUMENT)} characters')"
   ]
  },
  {
   "cell_type": "markdown",
   "metadata": {},
   "source": [
    "## Create Orchestrator Instance"
   ]
  },
  {
   "cell_type": "code",
   "execution_count": null,
   "metadata": {},
   "outputs": [],
   "source": [
    "orchestrator = SimpleOrchestratorAgent()\n",
    "\n",
    "print(f'Agent: {orchestrator.get_agent_name()}')\n",
    "print(f'Streaming: {orchestrator.supports_streaming()}')\n",
    "print(f'Tools: {len(orchestrator.get_tools())}')"
   ]
  },
  {
   "cell_type": "markdown",
   "metadata": {},
   "source": [
    "## Test Pipeline Execution"
   ]
  },
  {
   "cell_type": "code",
   "execution_count": null,
   "metadata": {},
   "outputs": [],
   "source": [
    "# Run the pipeline\n",
    "result = await orchestrator.execute_pipeline(TEST_DOCUMENT)\n",
    "\n",
    "print('Pipeline complete!')\n",
    "print(f'Result length: {len(result)} characters')\n",
    "print('\\nFirst 500 characters:')\n",
    "print(result[:500])"
   ]
  },
  {
   "cell_type": "markdown",
   "metadata": {},
   "source": [
    "## Test Pattern Extraction"
   ]
  },
  {
   "cell_type": "code",
   "execution_count": null,
   "metadata": {},
   "outputs": [],
   "source": [
    "# Test the pattern extraction logic\n",
    "sample_response = '''\n",
    "Patterns found:\n",
    "\"melanoma|cancer\"\n",
    "\"Stage [IVX]+\"\n",
    "Pattern: pembrolizumab\n",
    "'''\n",
    "\n",
    "patterns = orchestrator._extract_patterns(sample_response)\n",
    "print(f'Extracted {len(patterns)} patterns:')\n",
    "for p in patterns:\n",
    "    print(f'  - {p}')"
   ]
  }
 ],
 "metadata": {
  "kernelspec": {
   "display_name": "Python 3",
   "language": "python",
   "name": "python3"
  },
  "language_info": {
   "name": "python",
   "version": "3.10.0"
  }
 },
 "nbformat": 4,
 "nbformat_minor": 4
}
